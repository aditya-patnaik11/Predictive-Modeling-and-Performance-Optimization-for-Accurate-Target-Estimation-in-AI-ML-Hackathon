{
 "cells": [
  {
   "cell_type": "code",
   "execution_count": 2,
   "metadata": {},
   "outputs": [
    {
     "data": {
      "text/plain": [
       "(                                 ID  Column0  Column1  Column2   Column3  \\\n",
       " 0  ad1a67e4cbddc767a3456b0d94299b9e      2.0     2495   3726.0  0.678139   \n",
       " 1  7246d2f76ac0c217ec25e72ea5f014cb      0.0     2495   3454.0  0.452580   \n",
       " 2  22ba388e7dd14c13342c49e75fc29dda      2.0     2495   4543.0 -1.577453   \n",
       " 3  59f9b981472d97342587fb3e6392aeb1      0.0      211     59.0       NaN   \n",
       " 4  f6317cf7ecf126859804eddff279aead      0.0      718    950.0 -2.028572   \n",
       " \n",
       "     Column4   Column5   Column6   Column7   Column8  ...  Column12  Column13  \\\n",
       " 0  0.701403 -0.007468  0.434190 -0.015603  0.606265  ...         0         0   \n",
       " 1  0.701403 -0.007468  1.554998 -0.015574  0.329946  ...         0         0   \n",
       " 2 -1.429540 -0.007469 -0.407939 -0.015607 -0.774979  ...         1         1   \n",
       " 3       NaN       NaN -0.407939 -0.015607 -0.774979  ...         0         0   \n",
       " 4 -1.855728       NaN -0.407939 -0.015607 -0.774979  ...         0         0   \n",
       " \n",
       "    Column14  Column15  Column16  Column17  Column18  Column19  Column20  \\\n",
       " 0  0.001351   0.00339       0.0         0       0.0         0         0   \n",
       " 1  0.001351   0.00339       0.0         0       0.0         0         0   \n",
       " 2  0.001351   0.00339       0.0         0       0.0         0         0   \n",
       " 3       NaN   0.00339       0.0         0       1.0         0         0   \n",
       " 4       NaN   0.00339       0.0         0       0.0         0         0   \n",
       " \n",
       "    Column21  \n",
       " 0         0  \n",
       " 1         0  \n",
       " 2         0  \n",
       " 3         0  \n",
       " 4         0  \n",
       " \n",
       " [5 rows x 23 columns],\n",
       "                                  ID  target\n",
       " 0  ad1a67e4cbddc767a3456b0d94299b9e       0\n",
       " 1  7246d2f76ac0c217ec25e72ea5f014cb       0\n",
       " 2  22ba388e7dd14c13342c49e75fc29dda       0\n",
       " 3  59f9b981472d97342587fb3e6392aeb1       1\n",
       " 4  f6317cf7ecf126859804eddff279aead       0)"
      ]
     },
     "execution_count": 2,
     "metadata": {},
     "output_type": "execute_result"
    }
   ],
   "source": [
    "import pandas as pd\n",
    "\n",
    "# Load the uploaded datasets\n",
    "x_train_path = 'D:\\\\Games\\\\LEARNFLU\\\\gst\\\\Train_60\\\\Train_60\\\\Train_60\\\\X_Train_Data_Input.csv'\n",
    "y_train_path = 'D:\\\\Games\\\\LEARNFLU\\\\gst\\\\Train_60\\\\Train_60\\\\Train_60\\\\Y_Train_Data_Target.csv'\n",
    "\n",
    "# Reading the datasets\n",
    "X_train = pd.read_csv(x_train_path)\n",
    "Y_train = pd.read_csv(y_train_path)\n",
    "\n",
    "# Displaying first few rows of the datasets\n",
    "X_train.head(), Y_train.head()"
   ]
  },
  {
   "cell_type": "code",
   "execution_count": 7,
   "metadata": {},
   "outputs": [
    {
     "data": {
      "text/plain": [
       "(0.9687378603679622,\n",
       " '              precision    recall  f1-score   support\\n\\n           0       0.99      0.98      0.98    142275\\n           1       0.81      0.88      0.84     14752\\n\\n    accuracy                           0.97    157027\\n   macro avg       0.90      0.93      0.91    157027\\nweighted avg       0.97      0.97      0.97    157027\\n')"
      ]
     },
     "execution_count": 7,
     "metadata": {},
     "output_type": "execute_result"
    }
   ],
   "source": [
    "# Re-importing necessary libraries\n",
    "import pandas as pd\n",
    "from sklearn.model_selection import train_test_split\n",
    "from sklearn.linear_model import LogisticRegression\n",
    "from sklearn.metrics import accuracy_score, classification_report\n",
    "from sklearn.impute import SimpleImputer\n",
    "from sklearn.pipeline import Pipeline\n",
    "\n",
    "x_train_path = 'D:\\\\Games\\\\LEARNFLU\\\\gst\\\\Train_60\\\\Train_60\\\\Train_60\\\\X_Train_Data_Input.csv'\n",
    "y_train_path = 'D:\\\\Games\\\\LEARNFLU\\\\gst\\\\Train_60\\\\Train_60\\\\Train_60\\\\Y_Train_Data_Target.csv'\n",
    "\n",
    "X_train = pd.read_csv(x_train_path)\n",
    "Y_train = pd.read_csv(y_train_path)\n",
    "\n",
    "X_train_cleaned = X_train.drop(columns=['ID'])\n",
    "Y_train_cleaned = Y_train.drop(columns=['ID'])\n",
    "\n",
    "X_train_split, X_val_split, Y_train_split, Y_val_split = train_test_split(X_train_cleaned, Y_train_cleaned, test_size=0.2, random_state=42)\n",
    "\n",
    "pipeline = Pipeline([\n",
    "    ('imputer', SimpleImputer(strategy='mean')),\n",
    "    ('classifier', LogisticRegression(max_iter=5000))\n",
    "])\n",
    "\n",
    "pipeline.fit(X_train_split, Y_train_split.values.ravel())\n",
    "\n",
    "Y_val_pred = pipeline.predict(X_val_split)\n",
    "\n",
    "accuracy = accuracy_score(Y_val_split, Y_val_pred)\n",
    "classification_rep = classification_report(Y_val_split, Y_val_pred)\n",
    "\n",
    "accuracy, classification_rep"
   ]
  },
  {
   "cell_type": "code",
   "execution_count": 8,
   "metadata": {},
   "outputs": [
    {
     "name": "stdout",
     "output_type": "stream",
     "text": [
      "Model saved to trained_model.pkl\n"
     ]
    }
   ],
   "source": [
    "import joblib\n",
    "\n",
    "pipeline.fit(X_train_split, Y_train_split.values.ravel())\n",
    "\n",
    "model_filename = 'trained_model.pkl'\n",
    "joblib.dump(pipeline, model_filename)\n",
    "\n",
    "print(f\"Model saved to {model_filename}\")"
   ]
  },
  {
   "cell_type": "code",
   "execution_count": null,
   "metadata": {},
   "outputs": [],
   "source": []
  }
 ],
 "metadata": {
  "kernelspec": {
   "display_name": "Python 3",
   "language": "python",
   "name": "python3"
  },
  "language_info": {
   "codemirror_mode": {
    "name": "ipython",
    "version": 3
   },
   "file_extension": ".py",
   "mimetype": "text/x-python",
   "name": "python",
   "nbconvert_exporter": "python",
   "pygments_lexer": "ipython3",
   "version": "3.11.9"
  }
 },
 "nbformat": 4,
 "nbformat_minor": 2
}
